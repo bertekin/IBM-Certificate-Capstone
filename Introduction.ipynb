{
    "cells": [
        {
            "cell_type": "markdown",
            "metadata": {
                "collapsed": true
            },
            "source": "\n# Food Tourism In Turkey: Pizza\n\"Coursera Project for IBM Data Science Capstone / The Battle of Neighborhoods\"\n\n"
        },
        {
            "cell_type": "markdown",
            "metadata": {},
            "source": "## Introduction / Business Problem\nFood Tourism is one of the most indisputable motivation to visit a country. However, each country have their own cousine, taste and culture which makes hard to compare countries regarding their food taste. In our case, pizza which is commonly and globally accepted type of food criteria is selected for the case problem:\n\n\" For food tourism, when someone visits Turkey, which city and location is the most convenient to stay in order to have the most options for Pizza taste\nso that they can score. \""
        },
        {
            "cell_type": "code",
            "execution_count": null,
            "metadata": {},
            "outputs": [],
            "source": ""
        }
    ],
    "metadata": {
        "kernelspec": {
            "display_name": "Python 3.6",
            "language": "python",
            "name": "python3"
        },
        "language_info": {
            "codemirror_mode": {
                "name": "ipython",
                "version": 3
            },
            "file_extension": ".py",
            "mimetype": "text/x-python",
            "name": "python",
            "nbconvert_exporter": "python",
            "pygments_lexer": "ipython3",
            "version": "3.6.9"
        }
    },
    "nbformat": 4,
    "nbformat_minor": 1
}