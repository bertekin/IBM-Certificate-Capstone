{
    "cells": [
        {
            "cell_type": "markdown",
            "metadata": {
                "collapsed": true
            },
            "source": "# Food Tourism In Turkey: Pizza\n\n\"Coursera Project for IBM Data Science Capstone / The Battle of Neighborhoods"
        },
        {
            "cell_type": "markdown",
            "metadata": {},
            "source": "## Introduction / Business Problem\n\nFood Tourism is one of the most indisputable motivation to visit a country. However, each country have their own cousine, taste and culture which makes hard to compare countries regarding their food taste. In our case, pizza which is commonly and globally accepted type of food criteria is selected for the case problem:\n\n\" For food tourism, when someone visits Turkey, which city and location is the most convenient to stay in order to have the most options for Pizza taste\nso that they can score. \""
        },
        {
            "cell_type": "markdown",
            "metadata": {},
            "source": "## Data Criteria and Selection\n\nIn our case, two main data selection criterias has been implemented.\n\nFirst one is the top 5 city selection by population in Turkey through wikipedia becasue Turkey is a large country with 81 cities with more than 80 million people living. Thus, top 5 cities by population has been selected and these are: \" Istanbul, Ankara, Izmir, Bursa and Adana.\" The data source can be found at the wikipedia link below.\n\nTop%205%20Cities%20by%20Population%20in%20Turkey.png\n\nReference: https://en.wikipedia.org/wiki/List_of_largest_cities_and_towns_in_Turkey\n\nThe second one is the pizza shops in these 5 major cities (Istanbul, Ankara, Izmir, Bursa and Adana) through Foursquare API collection"
        },
        {
            "cell_type": "code",
            "execution_count": null,
            "metadata": {},
            "outputs": [],
            "source": ""
        }
    ],
    "metadata": {
        "kernelspec": {
            "display_name": "Python 3.6",
            "language": "python",
            "name": "python3"
        },
        "language_info": {
            "codemirror_mode": {
                "name": "ipython",
                "version": 3
            },
            "file_extension": ".py",
            "mimetype": "text/x-python",
            "name": "python",
            "nbconvert_exporter": "python",
            "pygments_lexer": "ipython3",
            "version": "3.6.9"
        }
    },
    "nbformat": 4,
    "nbformat_minor": 1
}